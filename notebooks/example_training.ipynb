{
  "cells": [
    {
      "cell_type": "markdown",
      "metadata": {},
      "source": [
        "# LLM Training Platform - 예제 훈련\n",
        "\n",
        "이 노트북은 LLM Training Platform을 사용하여 모델을 훈련하는 예제를 보여줍니다.\n"
      ]
    },
    {
      "cell_type": "code",
      "execution_count": null,
      "metadata": {},
      "outputs": [],
      "source": [
        "# 필요한 라이브러리 임포트\n",
        "import sys\n",
        "import os\n",
        "sys.path.append('..')\n",
        "\n",
        "import torch\n",
        "import numpy as np\n",
        "from pathlib import Path\n",
        "\n",
        "from models import TransformerModel\n",
        "from data import SimpleTokenizer, TextDataset, create_dataloader\n",
        "from training import Trainer, TrainingConfig\n",
        "from configs import Config\n",
        "from utils import set_seed, setup_logging\n"
      ]
    }
  ],
  "metadata": {
    "language_info": {
      "name": "python"
    }
  },
  "nbformat": 4,
  "nbformat_minor": 2
}
